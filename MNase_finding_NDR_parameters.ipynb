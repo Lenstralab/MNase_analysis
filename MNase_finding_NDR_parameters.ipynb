{
 "cells": [
  {
   "cell_type": "code",
   "execution_count": null,
   "id": "ranking-bunny",
   "metadata": {},
   "outputs": [],
   "source": [
    "#This script can be used to calculate the NDR parameters (NDR width, +1 position, -1 position) based on multiple \n",
    "#coverage files (txt files) as generated in the first part of MNase_analysis.ipynb"
   ]
  },
  {
   "cell_type": "code",
   "execution_count": 8,
   "id": "acoustic-people",
   "metadata": {},
   "outputs": [],
   "source": [
    "import mnase_analysis_functions as maf\n",
    "from tqdm.auto import tqdm\n",
    "# import numpy as np\n",
    "# import matplotlib.pyplot as plt\n",
    "# import json"
   ]
  },
  {
   "cell_type": "code",
   "execution_count": 2,
   "id": "expensive-aside",
   "metadata": {},
   "outputs": [],
   "source": [
    "#path to an individual bam file from which chromosome names and lengths can be inferred\n",
    "sampleBamPath = '/DATA/lenstra_lab/in.brouwer/MNAse/20210520_YTL1584_MNase/filtered_95-225bp/6472_1_YTL1584A1-1_GAL_-rapa_MNase_1_ATCACG_S2_filtered_95-225bp.bam'\n",
    "chromcontigs = maf.getChromcontigs(sampleBamPath)\n",
    "chromLengths = maf.getChromLengths(sampleBamPath, chromcontigs)\n"
   ]
  },
  {
   "cell_type": "code",
   "execution_count": 5,
   "id": "protective-maximum",
   "metadata": {},
   "outputs": [],
   "source": [
    "##BUILDING GENEINFO\n",
    "#Getting geneInfo from excel file downloaded from SGD and included in this git repository. Reference:\n",
    "# Cherry, J.M., Hong, E.L., Amundsen, C., Balakrishnan, R., Binkley, G., Chan, E.T., Christie, K.R., Costanzo, M.C., \n",
    "# Dwight, S.S., Engel, S.R., et al. (2012). Saccharomyces Genome Database: The genomics resource of budding yeast. \n",
    "# Nucleic Acids Res. 40, 700–705.\n",
    "geneFilePath = '/DATA/lenstra_lab/in.brouwer/MNAse/git_code/SGD_features.xls'\n",
    "geneInfo = maf.buildGeneInfo(geneFilePath,chromcontigs,chromLengths)\n",
    "\n",
    "#Adding info on TATA and TATAmismatch locations, based on excel file included in this git repository. Reference:\n",
    "# Rhee, H.S., and Pugh, B.F. (2012). Genome-wide structure and organization of eukaryotic pre-initiation complexes. \n",
    "# Nature 483, 295–301.\n",
    "TATAFilePath = '/DATA/lenstra_lab/in.brouwer/MNAse/git_code/Rhee_Pugh_2012.xls'\n",
    "geneInfo = maf.addTATAInfo(TATAFilePath,geneInfo)"
   ]
  },
  {
   "cell_type": "code",
   "execution_count": 66,
   "id": "focused-charge",
   "metadata": {},
   "outputs": [],
   "source": [
    "##CALCULATING FOR ALL DMSO GAL DATA"
   ]
  },
  {
   "cell_type": "code",
   "execution_count": 6,
   "id": "broken-attitude",
   "metadata": {},
   "outputs": [],
   "source": [
    "#set directory and paths to all coverage text files to be included in calculating the NDR parameters\n",
    "covDir = '/DATA/lenstra_lab/in.brouwer/MNAse/'\n",
    "covPaths = ['20210701_analysis_AA_data_norm_cov_per_chrom/filtered_95-225bp_coverage/5766_2_2019_11_14_YTL524A_GAL_-rapa_MNase_3_CGATGT_S5_filtered_95-225bp_chromosome_coverages.txt',\n",
    "              '20210701_analysis_AA_data_norm_cov_per_chrom/filtered_95-225bp_coverage/5766_9_2019_11_14_YTL524B_GAL_-rapa_MNase_3_TAGCTT_S14_filtered_95-225bp_chromosome_coverages.txt',\n",
    "              '20210701_analysis_AA_data_norm_cov_per_chrom/filtered_95-225bp_coverage/5766_5_2019_11_14_YTL525A_GAL_-rapa_MNase_3_GCCAAT_S9_filtered_95-225bp_chromosome_coverages.txt',\n",
    "              '20210701_analysis_AA_data_norm_cov_per_chrom/filtered_95-225bp_coverage/5766_16_2019_11_21_YTL525B_GAL_-rapa_MNase_3_AGTTCC_S16_filtered_95-225bp_chromosome_coverages.txt',\n",
    "              '20200923_YTL1306_GAL_YTL525_RAF/filtered_95-225bp_coverage/6165_2_YTL1306A_GAL_-rapa_MNase_3_CGATGT_S5_filtered_95-225bp_chromosome_coverages.txt',\n",
    "              '20200923_YTL1306_GAL_YTL525_RAF/filtered_95-225bp_coverage/6165_6_YTL1306B1_GAL_-rapa_MNase_3_GCCAAT_S7_filtered_95-225bp_chromosome_coverages.txt',\n",
    "              '20210520_YTL1584_MNase/filtered_95-225bp_coverage/6472_2_YTL1584A1-1_GAL_-rapa_MNase_3_CGATGT_S5_filtered_95-225bp_chromosome_coverages.txt',\n",
    "              '20210520_YTL1584_MNase/filtered_95-225bp_coverage/6472_6_YTL1584B2_GAL_-rapa_MNase_3_GCCAAT_S7_filtered_95-225bp_chromosome_coverages.txt']"
   ]
  },
  {
   "cell_type": "code",
   "execution_count": 9,
   "id": "induced-baseball",
   "metadata": {},
   "outputs": [
    {
     "data": {
      "application/vnd.jupyter.widget-view+json": {
       "model_id": "7355b9e371e74c06b0d43bda05af2eeb",
       "version_major": 2,
       "version_minor": 0
      },
      "text/plain": [
       "  0%|          | 0/8 [00:00<?, ?it/s]"
      ]
     },
     "metadata": {},
     "output_type": "display_data"
    }
   ],
   "source": [
    "#calculate coverage around each gene, store in a list over the bam files\n",
    "geneCovPerBam = []\n",
    "for filename in tqdm(covPaths):\n",
    "    covPath = covDir+filename\n",
    "    geneCovPerBam.append({'geneInfoDictBam':maf.calcCovBam(covPath,geneInfo,chromLengths)})"
   ]
  },
  {
   "cell_type": "code",
   "execution_count": 10,
   "id": "private-candidate",
   "metadata": {
    "scrolled": true
   },
   "outputs": [
    {
     "data": {
      "application/vnd.jupyter.widget-view+json": {
       "model_id": "0da0c03aebfb4545a0ad863a072142f4",
       "version_major": 2,
       "version_minor": 0
      },
      "text/plain": [
       "  0%|          | 0/5151 [00:00<?, ?it/s]"
      ]
     },
     "metadata": {},
     "output_type": "display_data"
    }
   ],
   "source": [
    "#set path for writing NDR properties output file\n",
    "outPath = '/DATA/lenstra_lab/in.brouwer/MNAse/NDRprops_DMSO_AA_data_all_GAL.json'\n",
    "maf.calcNDRpropsPerGene(geneCovPerBam,geneInfo,outPath)"
   ]
  }
 ],
 "metadata": {
  "kernelspec": {
   "display_name": "Python 2",
   "language": "python",
   "name": "python2"
  },
  "language_info": {
   "codemirror_mode": {
    "name": "ipython",
    "version": 2
   },
   "file_extension": ".py",
   "mimetype": "text/x-python",
   "name": "python",
   "nbconvert_exporter": "python",
   "pygments_lexer": "ipython2",
   "version": "2.7.18"
  }
 },
 "nbformat": 4,
 "nbformat_minor": 5
}
